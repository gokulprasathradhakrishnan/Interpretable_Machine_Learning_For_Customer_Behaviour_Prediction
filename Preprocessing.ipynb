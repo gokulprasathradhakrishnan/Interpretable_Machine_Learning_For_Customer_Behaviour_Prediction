{
 "cells": [
  {
   "cell_type": "code",
   "execution_count": 1,
   "id": "685d0dc6",
   "metadata": {},
   "outputs": [],
   "source": [
    "import pandas as pd\n",
    "from sklearn.model_selection import train_test_split,cross_val_score\n",
    "import matplotlib.pyplot as plt\n",
    "import numpy as np\n",
    "import seaborn as sns\n",
    "from sklearn.preprocessing import LabelEncoder\n",
    "from scipy.stats import entropy\n",
    "\n",
    "\n",
    "# Load your data from CSV\n",
    "data = pd.read_csv('2019-Dec.csv')"
   ]
  },
  {
   "cell_type": "markdown",
   "id": "e45f7f6e",
   "metadata": {},
   "source": [
    "**1 Data Overview**"
   ]
  },
  {
   "cell_type": "code",
   "execution_count": 2,
   "id": "57733446",
   "metadata": {},
   "outputs": [
    {
     "data": {
      "text/html": [
       "<div>\n",
       "<style scoped>\n",
       "    .dataframe tbody tr th:only-of-type {\n",
       "        vertical-align: middle;\n",
       "    }\n",
       "\n",
       "    .dataframe tbody tr th {\n",
       "        vertical-align: top;\n",
       "    }\n",
       "\n",
       "    .dataframe thead th {\n",
       "        text-align: right;\n",
       "    }\n",
       "</style>\n",
       "<table border=\"1\" class=\"dataframe\">\n",
       "  <thead>\n",
       "    <tr style=\"text-align: right;\">\n",
       "      <th></th>\n",
       "      <th>event_time</th>\n",
       "      <th>event_type</th>\n",
       "      <th>product_id</th>\n",
       "      <th>category_id</th>\n",
       "      <th>category_code</th>\n",
       "      <th>brand</th>\n",
       "      <th>price</th>\n",
       "      <th>user_id</th>\n",
       "      <th>user_session</th>\n",
       "    </tr>\n",
       "  </thead>\n",
       "  <tbody>\n",
       "    <tr>\n",
       "      <th>0</th>\n",
       "      <td>2019-12-01 00:00:00 UTC</td>\n",
       "      <td>remove_from_cart</td>\n",
       "      <td>5712790</td>\n",
       "      <td>1487580005268456287</td>\n",
       "      <td>NaN</td>\n",
       "      <td>f.o.x</td>\n",
       "      <td>6.27</td>\n",
       "      <td>576802932</td>\n",
       "      <td>51d85cb0-897f-48d2-918b-ad63965c12dc</td>\n",
       "    </tr>\n",
       "    <tr>\n",
       "      <th>1</th>\n",
       "      <td>2019-12-01 00:00:00 UTC</td>\n",
       "      <td>view</td>\n",
       "      <td>5764655</td>\n",
       "      <td>1487580005411062629</td>\n",
       "      <td>NaN</td>\n",
       "      <td>cnd</td>\n",
       "      <td>29.05</td>\n",
       "      <td>412120092</td>\n",
       "      <td>8adff31e-2051-4894-9758-224bfa8aec18</td>\n",
       "    </tr>\n",
       "    <tr>\n",
       "      <th>2</th>\n",
       "      <td>2019-12-01 00:00:02 UTC</td>\n",
       "      <td>cart</td>\n",
       "      <td>4958</td>\n",
       "      <td>1487580009471148064</td>\n",
       "      <td>NaN</td>\n",
       "      <td>runail</td>\n",
       "      <td>1.19</td>\n",
       "      <td>494077766</td>\n",
       "      <td>c99a50e8-2fac-4c4d-89ec-41c05f114554</td>\n",
       "    </tr>\n",
       "    <tr>\n",
       "      <th>3</th>\n",
       "      <td>2019-12-01 00:00:05 UTC</td>\n",
       "      <td>view</td>\n",
       "      <td>5848413</td>\n",
       "      <td>1487580007675986893</td>\n",
       "      <td>NaN</td>\n",
       "      <td>freedecor</td>\n",
       "      <td>0.79</td>\n",
       "      <td>348405118</td>\n",
       "      <td>722ffea5-73c0-4924-8e8f-371ff8031af4</td>\n",
       "    </tr>\n",
       "    <tr>\n",
       "      <th>4</th>\n",
       "      <td>2019-12-01 00:00:07 UTC</td>\n",
       "      <td>view</td>\n",
       "      <td>5824148</td>\n",
       "      <td>1487580005511725929</td>\n",
       "      <td>NaN</td>\n",
       "      <td>NaN</td>\n",
       "      <td>5.56</td>\n",
       "      <td>576005683</td>\n",
       "      <td>28172809-7e4a-45ce-bab0-5efa90117cd5</td>\n",
       "    </tr>\n",
       "  </tbody>\n",
       "</table>\n",
       "</div>"
      ],
      "text/plain": [
       "                event_time        event_type  product_id          category_id  \\\n",
       "0  2019-12-01 00:00:00 UTC  remove_from_cart     5712790  1487580005268456287   \n",
       "1  2019-12-01 00:00:00 UTC              view     5764655  1487580005411062629   \n",
       "2  2019-12-01 00:00:02 UTC              cart        4958  1487580009471148064   \n",
       "3  2019-12-01 00:00:05 UTC              view     5848413  1487580007675986893   \n",
       "4  2019-12-01 00:00:07 UTC              view     5824148  1487580005511725929   \n",
       "\n",
       "  category_code      brand  price    user_id  \\\n",
       "0           NaN      f.o.x   6.27  576802932   \n",
       "1           NaN        cnd  29.05  412120092   \n",
       "2           NaN     runail   1.19  494077766   \n",
       "3           NaN  freedecor   0.79  348405118   \n",
       "4           NaN        NaN   5.56  576005683   \n",
       "\n",
       "                           user_session  \n",
       "0  51d85cb0-897f-48d2-918b-ad63965c12dc  \n",
       "1  8adff31e-2051-4894-9758-224bfa8aec18  \n",
       "2  c99a50e8-2fac-4c4d-89ec-41c05f114554  \n",
       "3  722ffea5-73c0-4924-8e8f-371ff8031af4  \n",
       "4  28172809-7e4a-45ce-bab0-5efa90117cd5  "
      ]
     },
     "execution_count": 2,
     "metadata": {},
     "output_type": "execute_result"
    }
   ],
   "source": [
    "data.head(5)"
   ]
  },
  {
   "cell_type": "code",
   "execution_count": 3,
   "id": "32be3a12",
   "metadata": {},
   "outputs": [
    {
     "name": "stdout",
     "output_type": "stream",
     "text": [
      "<class 'pandas.core.frame.DataFrame'>\n",
      "RangeIndex: 3533286 entries, 0 to 3533285\n",
      "Data columns (total 9 columns):\n",
      " #   Column         Dtype  \n",
      "---  ------         -----  \n",
      " 0   event_time     object \n",
      " 1   event_type     object \n",
      " 2   product_id     int64  \n",
      " 3   category_id    int64  \n",
      " 4   category_code  object \n",
      " 5   brand          object \n",
      " 6   price          float64\n",
      " 7   user_id        int64  \n",
      " 8   user_session   object \n",
      "dtypes: float64(1), int64(3), object(5)\n",
      "memory usage: 242.6+ MB\n"
     ]
    }
   ],
   "source": [
    "data.info()"
   ]
  },
  {
   "cell_type": "code",
   "execution_count": 4,
   "id": "a7fd4470",
   "metadata": {},
   "outputs": [
    {
     "data": {
      "text/html": [
       "<div>\n",
       "<style scoped>\n",
       "    .dataframe tbody tr th:only-of-type {\n",
       "        vertical-align: middle;\n",
       "    }\n",
       "\n",
       "    .dataframe tbody tr th {\n",
       "        vertical-align: top;\n",
       "    }\n",
       "\n",
       "    .dataframe thead th {\n",
       "        text-align: right;\n",
       "    }\n",
       "</style>\n",
       "<table border=\"1\" class=\"dataframe\">\n",
       "  <thead>\n",
       "    <tr style=\"text-align: right;\">\n",
       "      <th></th>\n",
       "      <th>product_id</th>\n",
       "      <th>category_id</th>\n",
       "      <th>price</th>\n",
       "      <th>user_id</th>\n",
       "    </tr>\n",
       "  </thead>\n",
       "  <tbody>\n",
       "    <tr>\n",
       "      <th>count</th>\n",
       "      <td>3.533286e+06</td>\n",
       "      <td>3.533286e+06</td>\n",
       "      <td>3.533286e+06</td>\n",
       "      <td>3.533286e+06</td>\n",
       "    </tr>\n",
       "    <tr>\n",
       "      <th>mean</th>\n",
       "      <td>5.473054e+06</td>\n",
       "      <td>1.555023e+18</td>\n",
       "      <td>8.871856e+00</td>\n",
       "      <td>5.223318e+08</td>\n",
       "    </tr>\n",
       "    <tr>\n",
       "      <th>std</th>\n",
       "      <td>1.331331e+06</td>\n",
       "      <td>1.689262e+17</td>\n",
       "      <td>1.986474e+01</td>\n",
       "      <td>8.494819e+07</td>\n",
       "    </tr>\n",
       "    <tr>\n",
       "      <th>min</th>\n",
       "      <td>3.752000e+03</td>\n",
       "      <td>1.487580e+18</td>\n",
       "      <td>-7.937000e+01</td>\n",
       "      <td>1.180452e+06</td>\n",
       "    </tr>\n",
       "    <tr>\n",
       "      <th>25%</th>\n",
       "      <td>5.726191e+06</td>\n",
       "      <td>1.487580e+18</td>\n",
       "      <td>2.060000e+00</td>\n",
       "      <td>4.866830e+08</td>\n",
       "    </tr>\n",
       "    <tr>\n",
       "      <th>50%</th>\n",
       "      <td>5.811429e+06</td>\n",
       "      <td>1.487580e+18</td>\n",
       "      <td>4.210000e+00</td>\n",
       "      <td>5.566496e+08</td>\n",
       "    </tr>\n",
       "    <tr>\n",
       "      <th>75%</th>\n",
       "      <td>5.859462e+06</td>\n",
       "      <td>1.487580e+18</td>\n",
       "      <td>7.140000e+00</td>\n",
       "      <td>5.828019e+08</td>\n",
       "    </tr>\n",
       "    <tr>\n",
       "      <th>max</th>\n",
       "      <td>5.917178e+06</td>\n",
       "      <td>2.235524e+18</td>\n",
       "      <td>3.277800e+02</td>\n",
       "      <td>5.954145e+08</td>\n",
       "    </tr>\n",
       "  </tbody>\n",
       "</table>\n",
       "</div>"
      ],
      "text/plain": [
       "         product_id   category_id         price       user_id\n",
       "count  3.533286e+06  3.533286e+06  3.533286e+06  3.533286e+06\n",
       "mean   5.473054e+06  1.555023e+18  8.871856e+00  5.223318e+08\n",
       "std    1.331331e+06  1.689262e+17  1.986474e+01  8.494819e+07\n",
       "min    3.752000e+03  1.487580e+18 -7.937000e+01  1.180452e+06\n",
       "25%    5.726191e+06  1.487580e+18  2.060000e+00  4.866830e+08\n",
       "50%    5.811429e+06  1.487580e+18  4.210000e+00  5.566496e+08\n",
       "75%    5.859462e+06  1.487580e+18  7.140000e+00  5.828019e+08\n",
       "max    5.917178e+06  2.235524e+18  3.277800e+02  5.954145e+08"
      ]
     },
     "execution_count": 4,
     "metadata": {},
     "output_type": "execute_result"
    }
   ],
   "source": [
    "data.describe()"
   ]
  },
  {
   "cell_type": "markdown",
   "id": "92f2308c",
   "metadata": {},
   "source": [
    "**2. Data Cleaning** - Handling duplicates and missing entries"
   ]
  },
  {
   "cell_type": "code",
   "execution_count": 5,
   "id": "e76a7947",
   "metadata": {},
   "outputs": [
    {
     "data": {
      "text/plain": [
       "event_time             0\n",
       "event_type             0\n",
       "product_id             0\n",
       "category_id            0\n",
       "category_code    3474821\n",
       "brand            1510289\n",
       "price                  0\n",
       "user_id                0\n",
       "user_session         779\n",
       "dtype: int64"
      ]
     },
     "execution_count": 5,
     "metadata": {},
     "output_type": "execute_result"
    }
   ],
   "source": [
    "#Get sum of missing values for each column\n",
    "data.isnull().sum()"
   ]
  },
  {
   "cell_type": "code",
   "execution_count": 1,
   "id": "1ee012e2",
   "metadata": {},
   "outputs": [
    {
     "ename": "NameError",
     "evalue": "name 'data' is not defined",
     "output_type": "error",
     "traceback": [
      "\u001b[1;31m---------------------------------------------------------------------------\u001b[0m",
      "\u001b[1;31mNameError\u001b[0m                                 Traceback (most recent call last)",
      "Cell \u001b[1;32mIn[1], line 1\u001b[0m\n\u001b[1;32m----> 1\u001b[0m data[\u001b[38;5;124m'\u001b[39m\u001b[38;5;124mcategory_code\u001b[39m\u001b[38;5;124m'\u001b[39m]\u001b[38;5;241m.\u001b[39mfillna(\u001b[38;5;124m'\u001b[39m\u001b[38;5;124munknown\u001b[39m\u001b[38;5;124m'\u001b[39m, inplace\u001b[38;5;241m=\u001b[39m\u001b[38;5;28;01mTrue\u001b[39;00m)\n\u001b[0;32m      2\u001b[0m data[\u001b[38;5;124m'\u001b[39m\u001b[38;5;124mbrand\u001b[39m\u001b[38;5;124m'\u001b[39m]\u001b[38;5;241m.\u001b[39mfillna(\u001b[38;5;124m'\u001b[39m\u001b[38;5;124munknown\u001b[39m\u001b[38;5;124m'\u001b[39m, inplace\u001b[38;5;241m=\u001b[39m\u001b[38;5;28;01mTrue\u001b[39;00m)\n\u001b[0;32m      3\u001b[0m data\u001b[38;5;241m.\u001b[39mdropna(subset\u001b[38;5;241m=\u001b[39m[\u001b[38;5;124m'\u001b[39m\u001b[38;5;124muser_session\u001b[39m\u001b[38;5;124m'\u001b[39m], inplace\u001b[38;5;241m=\u001b[39m\u001b[38;5;28;01mTrue\u001b[39;00m)\n",
      "\u001b[1;31mNameError\u001b[0m: name 'data' is not defined"
     ]
    }
   ],
   "source": [
    "# Handling missing values\n",
    "data['category_code'].fillna('unknown', inplace=True)\n",
    "data['brand'].fillna('unknown', inplace=True)\n",
    "data.dropna(subset=['user_session'], inplace=True)"
   ]
  },
  {
   "cell_type": "code",
   "execution_count": 8,
   "id": "8f7cfabc",
   "metadata": {},
   "outputs": [
    {
     "data": {
      "text/html": [
       "<div>\n",
       "<style scoped>\n",
       "    .dataframe tbody tr th:only-of-type {\n",
       "        vertical-align: middle;\n",
       "    }\n",
       "\n",
       "    .dataframe tbody tr th {\n",
       "        vertical-align: top;\n",
       "    }\n",
       "\n",
       "    .dataframe thead th {\n",
       "        text-align: right;\n",
       "    }\n",
       "</style>\n",
       "<table border=\"1\" class=\"dataframe\">\n",
       "  <thead>\n",
       "    <tr style=\"text-align: right;\">\n",
       "      <th></th>\n",
       "      <th>event_time</th>\n",
       "      <th>event_type</th>\n",
       "      <th>product_id</th>\n",
       "      <th>category_id</th>\n",
       "      <th>category_code</th>\n",
       "      <th>brand</th>\n",
       "      <th>price</th>\n",
       "      <th>user_id</th>\n",
       "      <th>user_session</th>\n",
       "    </tr>\n",
       "  </thead>\n",
       "  <tbody>\n",
       "    <tr>\n",
       "      <th>36</th>\n",
       "      <td>2019-12-01 00:01:52 UTC</td>\n",
       "      <td>cart</td>\n",
       "      <td>5700046</td>\n",
       "      <td>1487580009286598681</td>\n",
       "      <td>unknown</td>\n",
       "      <td>runail</td>\n",
       "      <td>0.40</td>\n",
       "      <td>576802932</td>\n",
       "      <td>51d85cb0-897f-48d2-918b-ad63965c12dc</td>\n",
       "    </tr>\n",
       "    <tr>\n",
       "      <th>37</th>\n",
       "      <td>2019-12-01 00:01:52 UTC</td>\n",
       "      <td>cart</td>\n",
       "      <td>5700046</td>\n",
       "      <td>1487580009286598681</td>\n",
       "      <td>unknown</td>\n",
       "      <td>runail</td>\n",
       "      <td>0.40</td>\n",
       "      <td>576802932</td>\n",
       "      <td>51d85cb0-897f-48d2-918b-ad63965c12dc</td>\n",
       "    </tr>\n",
       "    <tr>\n",
       "      <th>54</th>\n",
       "      <td>2019-12-01 00:02:49 UTC</td>\n",
       "      <td>cart</td>\n",
       "      <td>5693501</td>\n",
       "      <td>1487580009445982239</td>\n",
       "      <td>unknown</td>\n",
       "      <td>unknown</td>\n",
       "      <td>0.60</td>\n",
       "      <td>579751441</td>\n",
       "      <td>8de492d7-0937-47ae-be2c-a7615aec2b0d</td>\n",
       "    </tr>\n",
       "    <tr>\n",
       "      <th>55</th>\n",
       "      <td>2019-12-01 00:02:49 UTC</td>\n",
       "      <td>cart</td>\n",
       "      <td>5693501</td>\n",
       "      <td>1487580009445982239</td>\n",
       "      <td>unknown</td>\n",
       "      <td>unknown</td>\n",
       "      <td>0.60</td>\n",
       "      <td>579751441</td>\n",
       "      <td>8de492d7-0937-47ae-be2c-a7615aec2b0d</td>\n",
       "    </tr>\n",
       "    <tr>\n",
       "      <th>59</th>\n",
       "      <td>2019-12-01 00:03:08 UTC</td>\n",
       "      <td>remove_from_cart</td>\n",
       "      <td>5839671</td>\n",
       "      <td>1487580005671109489</td>\n",
       "      <td>unknown</td>\n",
       "      <td>masura</td>\n",
       "      <td>2.19</td>\n",
       "      <td>561162056</td>\n",
       "      <td>39cf2227-03ed-421e-9615-7814b9b3c5e6</td>\n",
       "    </tr>\n",
       "    <tr>\n",
       "      <th>...</th>\n",
       "      <td>...</td>\n",
       "      <td>...</td>\n",
       "      <td>...</td>\n",
       "      <td>...</td>\n",
       "      <td>...</td>\n",
       "      <td>...</td>\n",
       "      <td>...</td>\n",
       "      <td>...</td>\n",
       "      <td>...</td>\n",
       "    </tr>\n",
       "    <tr>\n",
       "      <th>3533172</th>\n",
       "      <td>2019-12-31 23:48:49 UTC</td>\n",
       "      <td>remove_from_cart</td>\n",
       "      <td>5917159</td>\n",
       "      <td>1783999072332415142</td>\n",
       "      <td>unknown</td>\n",
       "      <td>herbolive</td>\n",
       "      <td>21.83</td>\n",
       "      <td>355374962</td>\n",
       "      <td>1a0088ea-20b1-4788-b642-44f982881778</td>\n",
       "    </tr>\n",
       "    <tr>\n",
       "      <th>3533184</th>\n",
       "      <td>2019-12-31 23:50:26 UTC</td>\n",
       "      <td>remove_from_cart</td>\n",
       "      <td>5809910</td>\n",
       "      <td>1602943681873052386</td>\n",
       "      <td>unknown</td>\n",
       "      <td>grattol</td>\n",
       "      <td>5.24</td>\n",
       "      <td>459117441</td>\n",
       "      <td>801a753b-912f-4a0f-9f99-9c90419be144</td>\n",
       "    </tr>\n",
       "    <tr>\n",
       "      <th>3533185</th>\n",
       "      <td>2019-12-31 23:50:26 UTC</td>\n",
       "      <td>remove_from_cart</td>\n",
       "      <td>5809910</td>\n",
       "      <td>1602943681873052386</td>\n",
       "      <td>unknown</td>\n",
       "      <td>grattol</td>\n",
       "      <td>5.24</td>\n",
       "      <td>459117441</td>\n",
       "      <td>801a753b-912f-4a0f-9f99-9c90419be144</td>\n",
       "    </tr>\n",
       "    <tr>\n",
       "      <th>3533260</th>\n",
       "      <td>2019-12-31 23:57:22 UTC</td>\n",
       "      <td>remove_from_cart</td>\n",
       "      <td>5893695</td>\n",
       "      <td>1487580011585077370</td>\n",
       "      <td>unknown</td>\n",
       "      <td>ecocraft</td>\n",
       "      <td>6.97</td>\n",
       "      <td>588166646</td>\n",
       "      <td>e099adca-fec5-4aef-820f-6116836e322a</td>\n",
       "    </tr>\n",
       "    <tr>\n",
       "      <th>3533261</th>\n",
       "      <td>2019-12-31 23:57:22 UTC</td>\n",
       "      <td>remove_from_cart</td>\n",
       "      <td>5893695</td>\n",
       "      <td>1487580011585077370</td>\n",
       "      <td>unknown</td>\n",
       "      <td>ecocraft</td>\n",
       "      <td>6.97</td>\n",
       "      <td>588166646</td>\n",
       "      <td>e099adca-fec5-4aef-820f-6116836e322a</td>\n",
       "    </tr>\n",
       "  </tbody>\n",
       "</table>\n",
       "<p>358551 rows × 9 columns</p>\n",
       "</div>"
      ],
      "text/plain": [
       "                      event_time        event_type  product_id  \\\n",
       "36       2019-12-01 00:01:52 UTC              cart     5700046   \n",
       "37       2019-12-01 00:01:52 UTC              cart     5700046   \n",
       "54       2019-12-01 00:02:49 UTC              cart     5693501   \n",
       "55       2019-12-01 00:02:49 UTC              cart     5693501   \n",
       "59       2019-12-01 00:03:08 UTC  remove_from_cart     5839671   \n",
       "...                          ...               ...         ...   \n",
       "3533172  2019-12-31 23:48:49 UTC  remove_from_cart     5917159   \n",
       "3533184  2019-12-31 23:50:26 UTC  remove_from_cart     5809910   \n",
       "3533185  2019-12-31 23:50:26 UTC  remove_from_cart     5809910   \n",
       "3533260  2019-12-31 23:57:22 UTC  remove_from_cart     5893695   \n",
       "3533261  2019-12-31 23:57:22 UTC  remove_from_cart     5893695   \n",
       "\n",
       "                 category_id category_code      brand  price    user_id  \\\n",
       "36       1487580009286598681       unknown     runail   0.40  576802932   \n",
       "37       1487580009286598681       unknown     runail   0.40  576802932   \n",
       "54       1487580009445982239       unknown    unknown   0.60  579751441   \n",
       "55       1487580009445982239       unknown    unknown   0.60  579751441   \n",
       "59       1487580005671109489       unknown     masura   2.19  561162056   \n",
       "...                      ...           ...        ...    ...        ...   \n",
       "3533172  1783999072332415142       unknown  herbolive  21.83  355374962   \n",
       "3533184  1602943681873052386       unknown    grattol   5.24  459117441   \n",
       "3533185  1602943681873052386       unknown    grattol   5.24  459117441   \n",
       "3533260  1487580011585077370       unknown   ecocraft   6.97  588166646   \n",
       "3533261  1487580011585077370       unknown   ecocraft   6.97  588166646   \n",
       "\n",
       "                                 user_session  \n",
       "36       51d85cb0-897f-48d2-918b-ad63965c12dc  \n",
       "37       51d85cb0-897f-48d2-918b-ad63965c12dc  \n",
       "54       8de492d7-0937-47ae-be2c-a7615aec2b0d  \n",
       "55       8de492d7-0937-47ae-be2c-a7615aec2b0d  \n",
       "59       39cf2227-03ed-421e-9615-7814b9b3c5e6  \n",
       "...                                       ...  \n",
       "3533172  1a0088ea-20b1-4788-b642-44f982881778  \n",
       "3533184  801a753b-912f-4a0f-9f99-9c90419be144  \n",
       "3533185  801a753b-912f-4a0f-9f99-9c90419be144  \n",
       "3533260  e099adca-fec5-4aef-820f-6116836e322a  \n",
       "3533261  e099adca-fec5-4aef-820f-6116836e322a  \n",
       "\n",
       "[358551 rows x 9 columns]"
      ]
     },
     "execution_count": 8,
     "metadata": {},
     "output_type": "execute_result"
    }
   ],
   "source": [
    "#Get duplicate entries\n",
    "data[data.duplicated(keep=False)]"
   ]
  },
  {
   "cell_type": "code",
   "execution_count": 3,
   "id": "cb044cac",
   "metadata": {},
   "outputs": [],
   "source": [
    "#Drop duplicates\n",
    "data = data.drop_duplicates()"
   ]
  },
  {
   "cell_type": "code",
   "execution_count": 2,
   "id": "78d2a1b0",
   "metadata": {},
   "outputs": [],
   "source": [
    "#Remove duplicates \n",
    "def remove_duplicates(data,event,entry):\n",
    "    before_data = len(data)\n",
    "    removecart_data = data[data.event_type==event]\n",
    "    removecart_duplicates = len(removecart_data[removecart_data.duplicated(subset=['product_id', 'user_id', 'user_session'], keep=False)])\n",
    "    print('Found {} duplicates'.format(removecart_duplicates))\n",
    "    data = data[data.event_type!=event]\n",
    "    removecart_data.drop_duplicates(subset=['product_id', 'user_id', 'user_session'], keep=entry, inplace=True)\n",
    "    data = pd.concat([data, removecart_data])\n",
    "    print('Data from {} rows reduced to {} rows'.format(before_data, len(data)))    \n",
    "    data.sort_values(by=['event_time'])\n",
    "    return data"
   ]
  },
  {
   "cell_type": "code",
   "execution_count": 5,
   "id": "e9cc2340",
   "metadata": {},
   "outputs": [
    {
     "name": "stdout",
     "output_type": "stream",
     "text": [
      "Found 109397 duplicates\n"
     ]
    },
    {
     "name": "stderr",
     "output_type": "stream",
     "text": [
      "C:\\Users\\gokul\\AppData\\Local\\Temp\\ipykernel_33328\\4025190276.py:9: SettingWithCopyWarning: \n",
      "A value is trying to be set on a copy of a slice from a DataFrame\n",
      "\n",
      "See the caveats in the documentation: https://pandas.pydata.org/pandas-docs/stable/user_guide/indexing.html#returning-a-view-versus-a-copy\n",
      "  removecart_data.drop_duplicates(subset=['product_id', 'user_id', 'user_session'], keep=entry, inplace=True)\n"
     ]
    },
    {
     "name": "stdout",
     "output_type": "stream",
     "text": [
      "Data from 3348712 rows reduced to 3289174 rows\n",
      "Found 2802 duplicates\n"
     ]
    },
    {
     "name": "stderr",
     "output_type": "stream",
     "text": [
      "C:\\Users\\gokul\\AppData\\Local\\Temp\\ipykernel_33328\\4025190276.py:9: SettingWithCopyWarning: \n",
      "A value is trying to be set on a copy of a slice from a DataFrame\n",
      "\n",
      "See the caveats in the documentation: https://pandas.pydata.org/pandas-docs/stable/user_guide/indexing.html#returning-a-view-versus-a-copy\n",
      "  removecart_data.drop_duplicates(subset=['product_id', 'user_id', 'user_session'], keep=entry, inplace=True)\n"
     ]
    },
    {
     "name": "stdout",
     "output_type": "stream",
     "text": [
      "Data from 3289174 rows reduced to 3287758 rows\n"
     ]
    }
   ],
   "source": [
    "# Apply duplicate removal for relevant events\n",
    "data = remove_duplicates(data, 'remove_from_cart', 'last')\n",
    "data = remove_duplicates(data, 'purchase', 'first')"
   ]
  },
  {
   "cell_type": "markdown",
   "id": "7fb52719",
   "metadata": {},
   "source": [
    "**2. Data Visualisation for insights**\n",
    "\n",
    "**2.1 Distribution of Main and sub categories**"
   ]
  },
  {
   "cell_type": "code",
   "execution_count": 36,
   "id": "329cf895",
   "metadata": {},
   "outputs": [],
   "source": [
    "#Category is split into two (Main and sub)\n",
    "data[['main_category', 'sub_category']] = data['category_code'].str.split('.', n=1, expand=True)\n",
    "data=data.drop(columns=['category_code'])"
   ]
  },
  {
   "cell_type": "markdown",
   "id": "0ed8aa4e",
   "metadata": {},
   "source": [
    "Function plot_cat plots pie chart for visualising main category and sub category. \n",
    "To plot main category, the user has to provide is_main_cat = 1, plot_type = count or percentage, and data. \n",
    "To plot sub category within specific main category, the user has to provide is_main_cat = 0, main_category name, plot_type = count or percentage, and data. "
   ]
  },
  {
   "cell_type": "code",
   "execution_count": 33,
   "id": "45d5007d",
   "metadata": {},
   "outputs": [],
   "source": [
    "def plot_cat(data,main_name,plot_type,is_main_cat):\n",
    "    \n",
    "    if is_main_cat == 1:\n",
    "        cat_counts = data['main_category'].value_counts()\n",
    "        title = 'Distribution of Main Categories'\n",
    "    else:\n",
    "        sub_cat_data = data[data['main_category'] == main_name]\n",
    "        cat_counts = sub_cat_data['sub_category'].value_counts()\n",
    "        title = f'Distribution of Sub-Categories in {main_name}'\n",
    "    \n",
    "    if plot_type == 'percentage':\n",
    "        cat_percent = (cat_counts / cat_counts.sum()) * 100\n",
    "        plot_data = cat_percent\n",
    "        plot_labels = [f'{label} ({percent:.2f}%)' for label, percent in zip(cat_counts.index, cat_percent)]\n",
    "        autopct_format = '%1.1f%%'  \n",
    "\n",
    "    else:\n",
    "        plot_data = cat_counts\n",
    "        plot_labels = [f'{label} ({count})' for label, count in zip(cat_counts.index, cat_counts)]\n",
    "        autopct_format = lambda p: '{:.0f}'.format(p * sum(plot_data) / 100) \n",
    "\n",
    "    # Plot the donut chart\n",
    "    plt.figure(figsize=(5, 3))\n",
    "    plt.pie(plot_data, labels=plot_labels, autopct=autopct_format, startangle=140, wedgeprops=dict(width=0.7))\n",
    "\n",
    "    plt.title(f'{title} ({plot_type.capitalize()})')\n",
    "    plt.axis('equal') \n",
    "    plt.show()"
   ]
  },
  {
   "cell_type": "code",
   "execution_count": 38,
   "id": "524fcd03",
   "metadata": {},
   "outputs": [
    {
     "data": {
      "image/png": "[encoded data removed]",
      "text/plain": [
       "<Figure size 500x300 with 1 Axes>"
      ]
     },
     "metadata": {},
     "output_type": "display_data"
    }
   ],
   "source": [
    "plot_cat(data,'furniture','percentage',0)"
   ]
  },
  {
   "cell_type": "markdown",
   "id": "32f55cd7",
   "metadata": {},
   "source": [
    "**2.2 Time distribution analysis**"
   ]
  },
  {
   "cell_type": "code",
   "execution_count": null,
   "id": "83fb8a7e",
   "metadata": {},
   "outputs": [],
   "source": [
    "data['event_time'] = pd.to_datetime(data['event_time'])\n",
    "data['date'] = pd.to_datetime(data['event_time'].dt.date)\n",
    "data['hour'] = data['event_time'].dt.hour\n",
    "data['day_of_week'] = data['event_time'].dt.dayofweek\n",
    "data['time'] = data['event_time'].dt.time\n",
    "data.sort_values(by=['date', 'time'])\n",
    "data['date'] = pd.to_datetime(data['date'])"
   ]
  },
  {
   "cell_type": "code",
   "execution_count": 32,
   "id": "7e7baa8c",
   "metadata": {},
   "outputs": [
    {
     "data": {
      "image/png": "[encoded data removed]",
      "text/plain": [
       "<Figure size 1200x600 with 1 Axes>"
      ]
     },
     "metadata": {},
     "output_type": "display_data"
    }
   ],
   "source": [
    "plt.figure(figsize=(12, 6))\n",
    "sns.countplot(x='hour', hue='event_type', data=data, palette='viridis')\n",
    "plt.title('Distribution of Events by Hour and Event type')\n",
    "plt.xlabel('Hour of the Day')\n",
    "plt.ylabel('Number of Events')\n",
    "plt.xticks(range(24))\n",
    "plt.legend(title='Event Type')\n",
    "plt.show()"
   ]
  },
  {
   "cell_type": "markdown",
   "id": "dc4b55a2",
   "metadata": {},
   "source": [
    "**2.3 Day of the week distribution analysis**"
   ]
  },
  {
   "cell_type": "code",
   "execution_count": 43,
   "id": "99ff2029",
   "metadata": {},
   "outputs": [
    {
     "data": {
      "image/png": "[encoded data removed]",
      "text/plain": [
       "<Figure size 1200x600 with 1 Axes>"
      ]
     },
     "metadata": {},
     "output_type": "display_data"
    }
   ],
   "source": [
    "plt.figure(figsize=(12, 6))\n",
    "sns.countplot(x='day_of_week', hue='event_type', data=data, palette='viridis')\n",
    "plt.title('Distribution of Events by day of the week and Event type')\n",
    "plt.xlabel('Day of the week')\n",
    "plt.ylabel('Number of Events')\n",
    "plt.xticks(range(7))\n",
    "plt.legend(title='Event Type')\n",
    "plt.show()"
   ]
  },
  {
   "cell_type": "markdown",
   "id": "b3ab7ba0",
   "metadata": {},
   "source": [
    "**3. Feature Engineering**"
   ]
  },
  {
   "cell_type": "code",
   "execution_count": 6,
   "id": "403d5c82",
   "metadata": {},
   "outputs": [],
   "source": [
    "data['event_time'] = pd.to_datetime(data['event_time'])\n",
    "# Feature: event type count within session\n",
    "session_agg = data.groupby('user_session').agg({\n",
    "    'event_type': [\n",
    "        'count', \n",
    "        lambda x: sum(x == 'view'), \n",
    "        lambda x: sum(x == 'cart'), \n",
    "        lambda x: sum(x == 'remove_from_cart'), \n",
    "        lambda x: sum(x == 'purchase')\n",
    "    ],\n",
    "    'product_id': 'nunique',\n",
    "    'category_id': 'nunique',\n",
    "    'price': ['sum', 'mean', 'max', 'min', 'median'],\n",
    "    'event_time': [lambda x: (x.max() - x.min()).total_seconds(), 'min']\n",
    "})"
   ]
  },
  {
   "cell_type": "code",
   "execution_count": 7,
   "id": "759b26c5",
   "metadata": {},
   "outputs": [],
   "source": [
    "# Rename columns\n",
    "session_agg.columns = ['total_events', 'view_count', 'cart_count', 'remove_count', 'purchase_count',\n",
    "                       'unique_products', 'unique_categories', 'total_price', 'avg_price', \n",
    "                       'max_price', 'min_price', 'median_price', 'session_duration', 'session_start']"
   ]
  },
  {
   "cell_type": "code",
   "execution_count": 8,
   "id": "0cd593c2",
   "metadata": {},
   "outputs": [],
   "source": [
    "# Add ratio features\n",
    "session_agg['cart_to_view_ratio'] = session_agg['cart_count'] / session_agg['view_count']\n",
    "session_agg['purchase_to_cart_ratio'] = session_agg['purchase_count'] / session_agg['cart_count']\n",
    "\n",
    "# Fill NaN values with 0 (for sessions where there are no views or carts)\n",
    "session_agg.fillna(0, inplace=True)"
   ]
  },
  {
   "cell_type": "code",
   "execution_count": 9,
   "id": "2ebdb07a",
   "metadata": {},
   "outputs": [],
   "source": [
    "# Time-based features\n",
    "session_agg['hour'] = session_agg['session_start'].dt.hour\n",
    "session_agg['day'] = session_agg['session_start'].dt.day\n",
    "session_agg['month'] = session_agg['session_start'].dt.month\n",
    "session_agg['day_of_week'] = session_agg['session_start'].dt.dayofweek\n",
    "# Drop session_start as it is no longer needed\n",
    "session_agg.drop(columns='session_start', inplace=True)"
   ]
  },
  {
   "cell_type": "code",
   "execution_count": 10,
   "id": "2a91f061",
   "metadata": {},
   "outputs": [],
   "source": [
    "# Product and Category Interactions\n",
    "session_agg['most_freq_category'] = data.groupby('user_session')['category_code'].agg(lambda x: x.mode()[0] if not x.mode().empty else 'unknown')\n",
    "session_agg['most_freq_brand'] = data.groupby('user_session')['brand'].agg(lambda x: x.mode()[0] if not x.mode().empty else 'unknown')"
   ]
  },
  {
   "cell_type": "code",
   "execution_count": 11,
   "id": "4b971c09",
   "metadata": {},
   "outputs": [],
   "source": [
    "# Encode categorical features\n",
    "le_category = LabelEncoder()\n",
    "le_brand = LabelEncoder()\n",
    "session_agg['most_freq_category'] = le_category.fit_transform(session_agg['most_freq_category'])\n",
    "session_agg['most_freq_brand'] = le_brand.fit_transform(session_agg['most_freq_brand'])"
   ]
  },
  {
   "cell_type": "code",
   "execution_count": 1,
   "id": "74d02ed9",
   "metadata": {},
   "outputs": [
    {
     "ename": "KeyboardInterrupt",
     "evalue": "",
     "output_type": "error",
     "traceback": [
      "\u001b[1;31m---------------------------------------------------------------------------\u001b[0m",
      "\u001b[1;31mKeyboardInterrupt\u001b[0m                         Traceback (most recent call last)",
      "Cell \u001b[1;32mIn[1], line 1\u001b[0m\n\u001b[1;32m----> 1\u001b[0m \u001b[38;5;28;01mfrom\u001b[39;00m \u001b[38;5;21;01mscipy\u001b[39;00m\u001b[38;5;21;01m.\u001b[39;00m\u001b[38;5;21;01mstats\u001b[39;00m \u001b[38;5;28;01mimport\u001b[39;00m entropy\n\u001b[0;32m      2\u001b[0m \u001b[38;5;66;03m# Calculate diversity scores (entropy) for products, categories, and brands\u001b[39;00m\n\u001b[0;32m      3\u001b[0m \u001b[38;5;28;01mdef\u001b[39;00m \u001b[38;5;21mcalc_entropy\u001b[39m(series):\n",
      "File \u001b[1;32m~\\anaconda3\\Lib\\site-packages\\scipy\\stats\\__init__.py:485\u001b[0m\n\u001b[0;32m      1\u001b[0m \u001b[38;5;124;03m\"\"\"\u001b[39;00m\n\u001b[0;32m      2\u001b[0m \u001b[38;5;124;03m.. _statsrefmanual:\u001b[39;00m\n\u001b[0;32m      3\u001b[0m \n\u001b[1;32m   (...)\u001b[0m\n\u001b[0;32m    480\u001b[0m \n\u001b[0;32m    481\u001b[0m \u001b[38;5;124;03m\"\"\"\u001b[39;00m\n\u001b[0;32m    483\u001b[0m \u001b[38;5;28;01mfrom\u001b[39;00m \u001b[38;5;21;01m.\u001b[39;00m\u001b[38;5;21;01m_warnings_errors\u001b[39;00m \u001b[38;5;28;01mimport\u001b[39;00m (ConstantInputWarning, NearConstantInputWarning,\n\u001b[0;32m    484\u001b[0m                                DegenerateDataWarning, FitError)\n\u001b[1;32m--> 485\u001b[0m \u001b[38;5;28;01mfrom\u001b[39;00m \u001b[38;5;21;01m.\u001b[39;00m\u001b[38;5;21;01m_stats_py\u001b[39;00m \u001b[38;5;28;01mimport\u001b[39;00m \u001b[38;5;241m*\u001b[39m\n\u001b[0;32m    486\u001b[0m \u001b[38;5;28;01mfrom\u001b[39;00m \u001b[38;5;21;01m.\u001b[39;00m\u001b[38;5;21;01m_variation\u001b[39;00m \u001b[38;5;28;01mimport\u001b[39;00m variation\n\u001b[0;32m    487\u001b[0m \u001b[38;5;28;01mfrom\u001b[39;00m \u001b[38;5;21;01m.\u001b[39;00m\u001b[38;5;21;01mdistributions\u001b[39;00m \u001b[38;5;28;01mimport\u001b[39;00m \u001b[38;5;241m*\u001b[39m\n",
      "File \u001b[1;32m~\\anaconda3\\Lib\\site-packages\\scipy\\stats\\_stats_py.py:46\u001b[0m\n\u001b[0;32m     44\u001b[0m \u001b[38;5;28;01mimport\u001b[39;00m \u001b[38;5;21;01mscipy\u001b[39;00m\u001b[38;5;21;01m.\u001b[39;00m\u001b[38;5;21;01mspecial\u001b[39;00m \u001b[38;5;28;01mas\u001b[39;00m \u001b[38;5;21;01mspecial\u001b[39;00m\n\u001b[0;32m     45\u001b[0m \u001b[38;5;28;01mfrom\u001b[39;00m \u001b[38;5;21;01mscipy\u001b[39;00m \u001b[38;5;28;01mimport\u001b[39;00m linalg\n\u001b[1;32m---> 46\u001b[0m \u001b[38;5;28;01mfrom\u001b[39;00m \u001b[38;5;21;01m.\u001b[39;00m \u001b[38;5;28;01mimport\u001b[39;00m distributions\n\u001b[0;32m     47\u001b[0m \u001b[38;5;28;01mfrom\u001b[39;00m \u001b[38;5;21;01m.\u001b[39;00m \u001b[38;5;28;01mimport\u001b[39;00m _mstats_basic \u001b[38;5;28;01mas\u001b[39;00m mstats_basic\n\u001b[0;32m     48\u001b[0m \u001b[38;5;28;01mfrom\u001b[39;00m \u001b[38;5;21;01m.\u001b[39;00m\u001b[38;5;21;01m_stats_mstats_common\u001b[39;00m \u001b[38;5;28;01mimport\u001b[39;00m (_find_repeats, linregress, theilslopes,\n\u001b[0;32m     49\u001b[0m                                    siegelslopes)\n",
      "File \u001b[1;32m~\\anaconda3\\Lib\\site-packages\\scipy\\stats\\distributions.py:11\u001b[0m\n\u001b[0;32m      8\u001b[0m \u001b[38;5;28;01mfrom\u001b[39;00m \u001b[38;5;21;01m.\u001b[39;00m\u001b[38;5;21;01m_distn_infrastructure\u001b[39;00m \u001b[38;5;28;01mimport\u001b[39;00m (rv_discrete, rv_continuous, rv_frozen)\n\u001b[0;32m     10\u001b[0m \u001b[38;5;28;01mfrom\u001b[39;00m \u001b[38;5;21;01m.\u001b[39;00m \u001b[38;5;28;01mimport\u001b[39;00m _continuous_distns\n\u001b[1;32m---> 11\u001b[0m \u001b[38;5;28;01mfrom\u001b[39;00m \u001b[38;5;21;01m.\u001b[39;00m \u001b[38;5;28;01mimport\u001b[39;00m _discrete_distns\n\u001b[0;32m     13\u001b[0m \u001b[38;5;28;01mfrom\u001b[39;00m \u001b[38;5;21;01m.\u001b[39;00m\u001b[38;5;21;01m_continuous_distns\u001b[39;00m \u001b[38;5;28;01mimport\u001b[39;00m \u001b[38;5;241m*\u001b[39m\n\u001b[0;32m     14\u001b[0m \u001b[38;5;28;01mfrom\u001b[39;00m \u001b[38;5;21;01m.\u001b[39;00m\u001b[38;5;21;01m_levy_stable\u001b[39;00m \u001b[38;5;28;01mimport\u001b[39;00m levy_stable\n",
      "File \u001b[1;32m~\\anaconda3\\Lib\\site-packages\\scipy\\stats\\_discrete_distns.py:11\u001b[0m\n\u001b[0;32m      9\u001b[0m \u001b[38;5;28;01mfrom\u001b[39;00m \u001b[38;5;21;01mscipy\u001b[39;00m\u001b[38;5;21;01m.\u001b[39;00m\u001b[38;5;21;01mspecial\u001b[39;00m \u001b[38;5;28;01mimport\u001b[39;00m entr, logsumexp, betaln, gammaln \u001b[38;5;28;01mas\u001b[39;00m gamln, zeta\n\u001b[0;32m     10\u001b[0m \u001b[38;5;28;01mfrom\u001b[39;00m \u001b[38;5;21;01mscipy\u001b[39;00m\u001b[38;5;21;01m.\u001b[39;00m\u001b[38;5;21;01m_lib\u001b[39;00m\u001b[38;5;21;01m.\u001b[39;00m\u001b[38;5;21;01m_util\u001b[39;00m \u001b[38;5;28;01mimport\u001b[39;00m _lazywhere, rng_integers\n\u001b[1;32m---> 11\u001b[0m \u001b[38;5;28;01mfrom\u001b[39;00m \u001b[38;5;21;01mscipy\u001b[39;00m\u001b[38;5;21;01m.\u001b[39;00m\u001b[38;5;21;01minterpolate\u001b[39;00m \u001b[38;5;28;01mimport\u001b[39;00m interp1d\n\u001b[0;32m     13\u001b[0m \u001b[38;5;28;01mfrom\u001b[39;00m \u001b[38;5;21;01mnumpy\u001b[39;00m \u001b[38;5;28;01mimport\u001b[39;00m floor, ceil, log, exp, sqrt, log1p, expm1, tanh, cosh, sinh\n\u001b[0;32m     15\u001b[0m \u001b[38;5;28;01mimport\u001b[39;00m \u001b[38;5;21;01mnumpy\u001b[39;00m \u001b[38;5;28;01mas\u001b[39;00m \u001b[38;5;21;01mnp\u001b[39;00m\n",
      "File \u001b[1;32m<frozen importlib._bootstrap>:1176\u001b[0m, in \u001b[0;36m_find_and_load\u001b[1;34m(name, import_)\u001b[0m\n",
      "File \u001b[1;32m<frozen importlib._bootstrap>:1138\u001b[0m, in \u001b[0;36m_find_and_load_unlocked\u001b[1;34m(name, import_)\u001b[0m\n",
      "File \u001b[1;32m<frozen importlib._bootstrap>:1078\u001b[0m, in \u001b[0;36m_find_spec\u001b[1;34m(name, path, target)\u001b[0m\n",
      "File \u001b[1;32m<frozen importlib._bootstrap_external>:1504\u001b[0m, in \u001b[0;36mfind_spec\u001b[1;34m(cls, fullname, path, target)\u001b[0m\n",
      "File \u001b[1;32m<frozen importlib._bootstrap_external>:1476\u001b[0m, in \u001b[0;36m_get_spec\u001b[1;34m(cls, fullname, path, target)\u001b[0m\n",
      "File \u001b[1;32m<frozen importlib._bootstrap_external>:1631\u001b[0m, in \u001b[0;36mfind_spec\u001b[1;34m(self, fullname, target)\u001b[0m\n",
      "File \u001b[1;32m<frozen importlib._bootstrap_external>:161\u001b[0m, in \u001b[0;36m_path_isfile\u001b[1;34m(path)\u001b[0m\n",
      "File \u001b[1;32m<frozen importlib._bootstrap_external>:153\u001b[0m, in \u001b[0;36m_path_is_mode_type\u001b[1;34m(path, mode)\u001b[0m\n",
      "File \u001b[1;32m<frozen importlib._bootstrap_external>:147\u001b[0m, in \u001b[0;36m_path_stat\u001b[1;34m(path)\u001b[0m\n",
      "\u001b[1;31mKeyboardInterrupt\u001b[0m: "
     ]
    }
   ],
   "source": [
    "# Calculate diversity scores (entropy) for products, categories, and brands\n",
    "def calc_entropy(series):\n",
    "    counts = series.value_counts()\n",
    "    return entropy(counts)\n",
    "\n",
    "session_agg['product_entropy'] = data.groupby('user_session')['product_id'].agg(calc_entropy)\n",
    "session_agg['category_entropy'] = data.groupby('user_session')['category_code'].agg(calc_entropy)\n",
    "session_agg['brand_entropy'] = data.groupby('user_session')['brand'].agg(calc_entropy)\n"
   ]
  },
  {
   "cell_type": "code",
   "execution_count": 13,
   "id": "e12feed9",
   "metadata": {},
   "outputs": [],
   "source": [
    "# Time since last interaction\n",
    "data['time_since_last_event'] = data.groupby('user_session')['event_time'].diff().dt.total_seconds().fillna(0)\n",
    "session_agg['avg_time_between_events'] = data.groupby('user_session')['time_since_last_event'].mean()\n"
   ]
  },
  {
   "cell_type": "code",
   "execution_count": 14,
   "id": "f6777bc5",
   "metadata": {},
   "outputs": [],
   "source": [
    "# User history (if available)\n",
    "user_history_agg = data.groupby('user_id').agg({\n",
    "    'event_type': ['count', lambda x: sum(x == 'view'), lambda x: sum(x == 'cart'), lambda x: sum(x == 'remove_from_cart'), lambda x: sum(x == 'purchase')],\n",
    "    'product_id': 'nunique',\n",
    "    'category_id': 'nunique',\n",
    "    'price': ['sum', 'mean'],\n",
    "})\n",
    "\n",
    "# Rename columns\n",
    "user_history_agg.columns = ['user_total_events', 'user_view_count', 'user_cart_count', 'user_remove_count', 'user_purchase_count',\n",
    "                            'user_unique_products', 'user_unique_categories', 'user_total_price', 'user_avg_price']"
   ]
  },
  {
   "cell_type": "code",
   "execution_count": 15,
   "id": "f3b14d90",
   "metadata": {},
   "outputs": [],
   "source": [
    "# Merge user history with session data\n",
    "session_data = session_agg.merge(data[['user_session', 'user_id']].drop_duplicates(), on='user_session').merge(user_history_agg, on='user_id').drop(columns=['user_id'])\n"
   ]
  },
  {
   "cell_type": "code",
   "execution_count": 16,
   "id": "dc231138",
   "metadata": {},
   "outputs": [],
   "source": [
    "# Merge session features with target variable\n",
    "data['is_purchase'] = data['event_type'] == 'purchase'\n",
    "session_purchase = data.groupby('user_session')['is_purchase'].max()\n",
    "session_data = session_data.merge(session_purchase, on='user_session')"
   ]
  },
  {
   "cell_type": "code",
   "execution_count": 17,
   "id": "1683b704",
   "metadata": {
    "scrolled": true
   },
   "outputs": [
    {
     "data": {
      "text/html": [
       "<div>\n",
       "<style scoped>\n",
       "    .dataframe tbody tr th:only-of-type {\n",
       "        vertical-align: middle;\n",
       "    }\n",
       "\n",
       "    .dataframe tbody tr th {\n",
       "        vertical-align: top;\n",
       "    }\n",
       "\n",
       "    .dataframe thead th {\n",
       "        text-align: right;\n",
       "    }\n",
       "</style>\n",
       "<table border=\"1\" class=\"dataframe\">\n",
       "  <thead>\n",
       "    <tr style=\"text-align: right;\">\n",
       "      <th></th>\n",
       "      <th>user_session</th>\n",
       "      <th>total_events</th>\n",
       "      <th>view_count</th>\n",
       "      <th>cart_count</th>\n",
       "      <th>remove_count</th>\n",
       "      <th>purchase_count</th>\n",
       "      <th>unique_products</th>\n",
       "      <th>unique_categories</th>\n",
       "      <th>total_price</th>\n",
       "      <th>avg_price</th>\n",
       "      <th>...</th>\n",
       "      <th>user_total_events</th>\n",
       "      <th>user_view_count</th>\n",
       "      <th>user_cart_count</th>\n",
       "      <th>user_remove_count</th>\n",
       "      <th>user_purchase_count</th>\n",
       "      <th>user_unique_products</th>\n",
       "      <th>user_unique_categories</th>\n",
       "      <th>user_total_price</th>\n",
       "      <th>user_avg_price</th>\n",
       "      <th>is_purchase</th>\n",
       "    </tr>\n",
       "  </thead>\n",
       "  <tbody>\n",
       "    <tr>\n",
       "      <th>0</th>\n",
       "      <td>00001aa1-7ee6-4d8c-81ff-bd5ce1dd1d6e</td>\n",
       "      <td>2</td>\n",
       "      <td>2</td>\n",
       "      <td>0</td>\n",
       "      <td>0</td>\n",
       "      <td>0</td>\n",
       "      <td>1</td>\n",
       "      <td>1</td>\n",
       "      <td>11.42</td>\n",
       "      <td>5.71</td>\n",
       "      <td>...</td>\n",
       "      <td>817</td>\n",
       "      <td>794</td>\n",
       "      <td>14</td>\n",
       "      <td>9</td>\n",
       "      <td>0</td>\n",
       "      <td>407</td>\n",
       "      <td>50</td>\n",
       "      <td>3689.13</td>\n",
       "      <td>4.515459</td>\n",
       "      <td>False</td>\n",
       "    </tr>\n",
       "    <tr>\n",
       "      <th>1</th>\n",
       "      <td>000cb41f-e9a0-43b6-9009-26fd246d21ed</td>\n",
       "      <td>1</td>\n",
       "      <td>1</td>\n",
       "      <td>0</td>\n",
       "      <td>0</td>\n",
       "      <td>0</td>\n",
       "      <td>1</td>\n",
       "      <td>1</td>\n",
       "      <td>6.03</td>\n",
       "      <td>6.03</td>\n",
       "      <td>...</td>\n",
       "      <td>817</td>\n",
       "      <td>794</td>\n",
       "      <td>14</td>\n",
       "      <td>9</td>\n",
       "      <td>0</td>\n",
       "      <td>407</td>\n",
       "      <td>50</td>\n",
       "      <td>3689.13</td>\n",
       "      <td>4.515459</td>\n",
       "      <td>False</td>\n",
       "    </tr>\n",
       "    <tr>\n",
       "      <th>2</th>\n",
       "      <td>00308653-1a42-4c28-aba6-87f8ccdc45a2</td>\n",
       "      <td>1</td>\n",
       "      <td>1</td>\n",
       "      <td>0</td>\n",
       "      <td>0</td>\n",
       "      <td>0</td>\n",
       "      <td>1</td>\n",
       "      <td>1</td>\n",
       "      <td>4.29</td>\n",
       "      <td>4.29</td>\n",
       "      <td>...</td>\n",
       "      <td>817</td>\n",
       "      <td>794</td>\n",
       "      <td>14</td>\n",
       "      <td>9</td>\n",
       "      <td>0</td>\n",
       "      <td>407</td>\n",
       "      <td>50</td>\n",
       "      <td>3689.13</td>\n",
       "      <td>4.515459</td>\n",
       "      <td>False</td>\n",
       "    </tr>\n",
       "    <tr>\n",
       "      <th>3</th>\n",
       "      <td>0147bdc2-756c-4e46-b3bd-ed1227a51473</td>\n",
       "      <td>1</td>\n",
       "      <td>1</td>\n",
       "      <td>0</td>\n",
       "      <td>0</td>\n",
       "      <td>0</td>\n",
       "      <td>1</td>\n",
       "      <td>1</td>\n",
       "      <td>4.44</td>\n",
       "      <td>4.44</td>\n",
       "      <td>...</td>\n",
       "      <td>817</td>\n",
       "      <td>794</td>\n",
       "      <td>14</td>\n",
       "      <td>9</td>\n",
       "      <td>0</td>\n",
       "      <td>407</td>\n",
       "      <td>50</td>\n",
       "      <td>3689.13</td>\n",
       "      <td>4.515459</td>\n",
       "      <td>False</td>\n",
       "    </tr>\n",
       "    <tr>\n",
       "      <th>4</th>\n",
       "      <td>016a5258-d837-417e-8939-2253ece429d9</td>\n",
       "      <td>2</td>\n",
       "      <td>2</td>\n",
       "      <td>0</td>\n",
       "      <td>0</td>\n",
       "      <td>0</td>\n",
       "      <td>1</td>\n",
       "      <td>1</td>\n",
       "      <td>11.12</td>\n",
       "      <td>5.56</td>\n",
       "      <td>...</td>\n",
       "      <td>817</td>\n",
       "      <td>794</td>\n",
       "      <td>14</td>\n",
       "      <td>9</td>\n",
       "      <td>0</td>\n",
       "      <td>407</td>\n",
       "      <td>50</td>\n",
       "      <td>3689.13</td>\n",
       "      <td>4.515459</td>\n",
       "      <td>False</td>\n",
       "    </tr>\n",
       "  </tbody>\n",
       "</table>\n",
       "<p>5 rows × 36 columns</p>\n",
       "</div>"
      ],
      "text/plain": [
       "                           user_session  total_events  view_count  cart_count  \\\n",
       "0  00001aa1-7ee6-4d8c-81ff-bd5ce1dd1d6e             2           2           0   \n",
       "1  000cb41f-e9a0-43b6-9009-26fd246d21ed             1           1           0   \n",
       "2  00308653-1a42-4c28-aba6-87f8ccdc45a2             1           1           0   \n",
       "3  0147bdc2-756c-4e46-b3bd-ed1227a51473             1           1           0   \n",
       "4  016a5258-d837-417e-8939-2253ece429d9             2           2           0   \n",
       "\n",
       "   remove_count  purchase_count  unique_products  unique_categories  \\\n",
       "0             0               0                1                  1   \n",
       "1             0               0                1                  1   \n",
       "2             0               0                1                  1   \n",
       "3             0               0                1                  1   \n",
       "4             0               0                1                  1   \n",
       "\n",
       "   total_price  avg_price  ...  user_total_events  user_view_count  \\\n",
       "0        11.42       5.71  ...                817              794   \n",
       "1         6.03       6.03  ...                817              794   \n",
       "2         4.29       4.29  ...                817              794   \n",
       "3         4.44       4.44  ...                817              794   \n",
       "4        11.12       5.56  ...                817              794   \n",
       "\n",
       "   user_cart_count  user_remove_count  user_purchase_count  \\\n",
       "0               14                  9                    0   \n",
       "1               14                  9                    0   \n",
       "2               14                  9                    0   \n",
       "3               14                  9                    0   \n",
       "4               14                  9                    0   \n",
       "\n",
       "   user_unique_products  user_unique_categories  user_total_price  \\\n",
       "0                   407                      50           3689.13   \n",
       "1                   407                      50           3689.13   \n",
       "2                   407                      50           3689.13   \n",
       "3                   407                      50           3689.13   \n",
       "4                   407                      50           3689.13   \n",
       "\n",
       "   user_avg_price  is_purchase  \n",
       "0        4.515459        False  \n",
       "1        4.515459        False  \n",
       "2        4.515459        False  \n",
       "3        4.515459        False  \n",
       "4        4.515459        False  \n",
       "\n",
       "[5 rows x 36 columns]"
      ]
     },
     "execution_count": 17,
     "metadata": {},
     "output_type": "execute_result"
    }
   ],
   "source": [
    "session_data.head()"
   ]
  },
  {
   "cell_type": "code",
   "execution_count": 46,
   "id": "d3dc6eff",
   "metadata": {},
   "outputs": [],
   "source": [
    "session_data.to_csv('Session_processed.csv')"
   ]
  }
 ],
 "metadata": {
  "kernelspec": {
   "display_name": "Python 3 (ipykernel)",
   "language": "python",
   "name": "python3"
  },
  "language_info": {
   "codemirror_mode": {
    "name": "ipython",
    "version": 3
   },
   "file_extension": ".py",
   "mimetype": "text/x-python",
   "name": "python",
   "nbconvert_exporter": "python",
   "pygments_lexer": "ipython3",
   "version": "3.11.4"
  }
 },
 "nbformat": 4,
 "nbformat_minor": 5
}
